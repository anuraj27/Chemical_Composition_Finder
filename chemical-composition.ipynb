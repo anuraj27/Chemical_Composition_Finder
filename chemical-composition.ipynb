{
 "cells": [
  {
   "cell_type": "code",
   "execution_count": 1,
   "id": "c8a56546",
   "metadata": {
    "_cell_guid": "b1076dfc-b9ad-4769-8c92-a6c4dae69d19",
    "_uuid": "8f2839f25d086af736a60e9eeb907d3b93b6e0e5",
    "execution": {
     "iopub.execute_input": "2023-08-24T12:34:29.798610Z",
     "iopub.status.busy": "2023-08-24T12:34:29.797543Z",
     "iopub.status.idle": "2023-08-24T12:34:29.808482Z",
     "shell.execute_reply": "2023-08-24T12:34:29.807694Z"
    },
    "papermill": {
     "duration": 0.021476,
     "end_time": "2023-08-24T12:34:29.810674",
     "exception": false,
     "start_time": "2023-08-24T12:34:29.789198",
     "status": "completed"
    },
    "tags": []
   },
   "outputs": [],
   "source": [
    "import numpy as np\n",
    "import pandas as pd"
   ]
  },
  {
   "cell_type": "markdown",
   "id": "14a43b60",
   "metadata": {
    "papermill": {
     "duration": 0.005717,
     "end_time": "2023-08-24T12:34:29.823122",
     "exception": false,
     "start_time": "2023-08-24T12:34:29.817405",
     "status": "completed"
    },
    "tags": []
   },
   "source": [
    "## Regression Tree"
   ]
  },
  {
   "cell_type": "code",
   "execution_count": 2,
   "id": "c05cc934",
   "metadata": {
    "execution": {
     "iopub.execute_input": "2023-08-24T12:34:29.837070Z",
     "iopub.status.busy": "2023-08-24T12:34:29.836472Z",
     "iopub.status.idle": "2023-08-24T12:34:29.953716Z",
     "shell.execute_reply": "2023-08-24T12:34:29.952589Z"
    },
    "papermill": {
     "duration": 0.127246,
     "end_time": "2023-08-24T12:34:29.956290",
     "exception": false,
     "start_time": "2023-08-24T12:34:29.829044",
     "status": "completed"
    },
    "tags": []
   },
   "outputs": [
    {
     "data": {
      "text/html": [
       "<div>\n",
       "<style scoped>\n",
       "    .dataframe tbody tr th:only-of-type {\n",
       "        vertical-align: middle;\n",
       "    }\n",
       "\n",
       "    .dataframe tbody tr th {\n",
       "        vertical-align: top;\n",
       "    }\n",
       "\n",
       "    .dataframe thead th {\n",
       "        text-align: right;\n",
       "    }\n",
       "</style>\n",
       "<table border=\"1\" class=\"dataframe\">\n",
       "  <thead>\n",
       "    <tr style=\"text-align: right;\">\n",
       "      <th></th>\n",
       "      <th>Time</th>\n",
       "      <th>OZONE</th>\n",
       "      <th>NO2</th>\n",
       "      <th>temp</th>\n",
       "      <th>humidity</th>\n",
       "      <th>no2op1</th>\n",
       "      <th>no2op2</th>\n",
       "      <th>o3op1</th>\n",
       "      <th>o3op2</th>\n",
       "    </tr>\n",
       "  </thead>\n",
       "  <tbody>\n",
       "    <tr>\n",
       "      <th>0</th>\n",
       "      <td>2019-03-27 13:01:00</td>\n",
       "      <td>77.59</td>\n",
       "      <td>6.881</td>\n",
       "      <td>36.2</td>\n",
       "      <td>38.9</td>\n",
       "      <td>199.0</td>\n",
       "      <td>200.0</td>\n",
       "      <td>240.0</td>\n",
       "      <td>197.0</td>\n",
       "    </tr>\n",
       "    <tr>\n",
       "      <th>1</th>\n",
       "      <td>2019-03-27 13:03:00</td>\n",
       "      <td>78.71</td>\n",
       "      <td>11.057</td>\n",
       "      <td>36.3</td>\n",
       "      <td>37.7</td>\n",
       "      <td>196.0</td>\n",
       "      <td>200.0</td>\n",
       "      <td>237.0</td>\n",
       "      <td>196.0</td>\n",
       "    </tr>\n",
       "    <tr>\n",
       "      <th>2</th>\n",
       "      <td>2019-03-27 13:04:00</td>\n",
       "      <td>78.85</td>\n",
       "      <td>8.596</td>\n",
       "      <td>36.7</td>\n",
       "      <td>38.0</td>\n",
       "      <td>195.0</td>\n",
       "      <td>199.0</td>\n",
       "      <td>235.0</td>\n",
       "      <td>196.0</td>\n",
       "    </tr>\n",
       "    <tr>\n",
       "      <th>3</th>\n",
       "      <td>2019-03-27 13:07:00</td>\n",
       "      <td>79.27</td>\n",
       "      <td>7.248</td>\n",
       "      <td>37.0</td>\n",
       "      <td>37.5</td>\n",
       "      <td>193.0</td>\n",
       "      <td>198.0</td>\n",
       "      <td>233.0</td>\n",
       "      <td>195.0</td>\n",
       "    </tr>\n",
       "    <tr>\n",
       "      <th>4</th>\n",
       "      <td>2019-03-27 13:08:00</td>\n",
       "      <td>80.01</td>\n",
       "      <td>8.638</td>\n",
       "      <td>36.8</td>\n",
       "      <td>36.8</td>\n",
       "      <td>191.0</td>\n",
       "      <td>198.0</td>\n",
       "      <td>231.0</td>\n",
       "      <td>195.0</td>\n",
       "    </tr>\n",
       "  </tbody>\n",
       "</table>\n",
       "</div>"
      ],
      "text/plain": [
       "                  Time  OZONE     NO2  temp  humidity  no2op1  no2op2  o3op1  \\\n",
       "0  2019-03-27 13:01:00  77.59   6.881  36.2      38.9   199.0   200.0  240.0   \n",
       "1  2019-03-27 13:03:00  78.71  11.057  36.3      37.7   196.0   200.0  237.0   \n",
       "2  2019-03-27 13:04:00  78.85   8.596  36.7      38.0   195.0   199.0  235.0   \n",
       "3  2019-03-27 13:07:00  79.27   7.248  37.0      37.5   193.0   198.0  233.0   \n",
       "4  2019-03-27 13:08:00  80.01   8.638  36.8      36.8   191.0   198.0  231.0   \n",
       "\n",
       "   o3op2  \n",
       "0  197.0  \n",
       "1  196.0  \n",
       "2  196.0  \n",
       "3  195.0  \n",
       "4  195.0  "
      ]
     },
     "execution_count": 2,
     "metadata": {},
     "output_type": "execute_result"
    }
   ],
   "source": [
    "df = pd.read_csv('/kaggle/input/chemical/train.csv')\n",
    "df.head()"
   ]
  },
  {
   "cell_type": "code",
   "execution_count": 3,
   "id": "2afda054",
   "metadata": {
    "execution": {
     "iopub.execute_input": "2023-08-24T12:34:29.971049Z",
     "iopub.status.busy": "2023-08-24T12:34:29.970618Z",
     "iopub.status.idle": "2023-08-24T12:34:29.993033Z",
     "shell.execute_reply": "2023-08-24T12:34:29.991972Z"
    },
    "papermill": {
     "duration": 0.032562,
     "end_time": "2023-08-24T12:34:29.995413",
     "exception": false,
     "start_time": "2023-08-24T12:34:29.962851",
     "status": "completed"
    },
    "tags": []
   },
   "outputs": [
    {
     "data": {
      "text/html": [
       "<div>\n",
       "<style scoped>\n",
       "    .dataframe tbody tr th:only-of-type {\n",
       "        vertical-align: middle;\n",
       "    }\n",
       "\n",
       "    .dataframe tbody tr th {\n",
       "        vertical-align: top;\n",
       "    }\n",
       "\n",
       "    .dataframe thead th {\n",
       "        text-align: right;\n",
       "    }\n",
       "</style>\n",
       "<table border=\"1\" class=\"dataframe\">\n",
       "  <thead>\n",
       "    <tr style=\"text-align: right;\">\n",
       "      <th></th>\n",
       "      <th>temp</th>\n",
       "      <th>humidity</th>\n",
       "      <th>no2op1</th>\n",
       "      <th>no2op2</th>\n",
       "      <th>o3op1</th>\n",
       "      <th>o3op2</th>\n",
       "    </tr>\n",
       "  </thead>\n",
       "  <tbody>\n",
       "    <tr>\n",
       "      <th>0</th>\n",
       "      <td>36.2</td>\n",
       "      <td>38.9</td>\n",
       "      <td>199.0</td>\n",
       "      <td>200.0</td>\n",
       "      <td>240.0</td>\n",
       "      <td>197.0</td>\n",
       "    </tr>\n",
       "    <tr>\n",
       "      <th>1</th>\n",
       "      <td>36.3</td>\n",
       "      <td>37.7</td>\n",
       "      <td>196.0</td>\n",
       "      <td>200.0</td>\n",
       "      <td>237.0</td>\n",
       "      <td>196.0</td>\n",
       "    </tr>\n",
       "    <tr>\n",
       "      <th>2</th>\n",
       "      <td>36.7</td>\n",
       "      <td>38.0</td>\n",
       "      <td>195.0</td>\n",
       "      <td>199.0</td>\n",
       "      <td>235.0</td>\n",
       "      <td>196.0</td>\n",
       "    </tr>\n",
       "    <tr>\n",
       "      <th>3</th>\n",
       "      <td>37.0</td>\n",
       "      <td>37.5</td>\n",
       "      <td>193.0</td>\n",
       "      <td>198.0</td>\n",
       "      <td>233.0</td>\n",
       "      <td>195.0</td>\n",
       "    </tr>\n",
       "    <tr>\n",
       "      <th>4</th>\n",
       "      <td>36.8</td>\n",
       "      <td>36.8</td>\n",
       "      <td>191.0</td>\n",
       "      <td>198.0</td>\n",
       "      <td>231.0</td>\n",
       "      <td>195.0</td>\n",
       "    </tr>\n",
       "  </tbody>\n",
       "</table>\n",
       "</div>"
      ],
      "text/plain": [
       "   temp  humidity  no2op1  no2op2  o3op1  o3op2\n",
       "0  36.2      38.9   199.0   200.0  240.0  197.0\n",
       "1  36.3      37.7   196.0   200.0  237.0  196.0\n",
       "2  36.7      38.0   195.0   199.0  235.0  196.0\n",
       "3  37.0      37.5   193.0   198.0  233.0  195.0\n",
       "4  36.8      36.8   191.0   198.0  231.0  195.0"
      ]
     },
     "execution_count": 3,
     "metadata": {},
     "output_type": "execute_result"
    }
   ],
   "source": [
    "X_train = df[[\"temp\",\"humidity\",\"no2op1\",\"no2op2\",\"o3op1\",\"o3op2\"]]\n",
    "X_train.head()"
   ]
  },
  {
   "cell_type": "code",
   "execution_count": 4,
   "id": "c507d4eb",
   "metadata": {
    "execution": {
     "iopub.execute_input": "2023-08-24T12:34:30.010813Z",
     "iopub.status.busy": "2023-08-24T12:34:30.009949Z",
     "iopub.status.idle": "2023-08-24T12:34:30.022456Z",
     "shell.execute_reply": "2023-08-24T12:34:30.021303Z"
    },
    "papermill": {
     "duration": 0.022767,
     "end_time": "2023-08-24T12:34:30.024911",
     "exception": false,
     "start_time": "2023-08-24T12:34:30.002144",
     "status": "completed"
    },
    "tags": []
   },
   "outputs": [
    {
     "data": {
      "text/html": [
       "<div>\n",
       "<style scoped>\n",
       "    .dataframe tbody tr th:only-of-type {\n",
       "        vertical-align: middle;\n",
       "    }\n",
       "\n",
       "    .dataframe tbody tr th {\n",
       "        vertical-align: top;\n",
       "    }\n",
       "\n",
       "    .dataframe thead th {\n",
       "        text-align: right;\n",
       "    }\n",
       "</style>\n",
       "<table border=\"1\" class=\"dataframe\">\n",
       "  <thead>\n",
       "    <tr style=\"text-align: right;\">\n",
       "      <th></th>\n",
       "      <th>OZONE</th>\n",
       "      <th>NO2</th>\n",
       "    </tr>\n",
       "  </thead>\n",
       "  <tbody>\n",
       "    <tr>\n",
       "      <th>0</th>\n",
       "      <td>77.59</td>\n",
       "      <td>6.881</td>\n",
       "    </tr>\n",
       "    <tr>\n",
       "      <th>1</th>\n",
       "      <td>78.71</td>\n",
       "      <td>11.057</td>\n",
       "    </tr>\n",
       "    <tr>\n",
       "      <th>2</th>\n",
       "      <td>78.85</td>\n",
       "      <td>8.596</td>\n",
       "    </tr>\n",
       "    <tr>\n",
       "      <th>3</th>\n",
       "      <td>79.27</td>\n",
       "      <td>7.248</td>\n",
       "    </tr>\n",
       "    <tr>\n",
       "      <th>4</th>\n",
       "      <td>80.01</td>\n",
       "      <td>8.638</td>\n",
       "    </tr>\n",
       "  </tbody>\n",
       "</table>\n",
       "</div>"
      ],
      "text/plain": [
       "   OZONE     NO2\n",
       "0  77.59   6.881\n",
       "1  78.71  11.057\n",
       "2  78.85   8.596\n",
       "3  79.27   7.248\n",
       "4  80.01   8.638"
      ]
     },
     "execution_count": 4,
     "metadata": {},
     "output_type": "execute_result"
    }
   ],
   "source": [
    "y_train = df[[\"OZONE\",\"NO2\"]]\n",
    "y_train.head()"
   ]
  },
  {
   "cell_type": "code",
   "execution_count": 5,
   "id": "ab2bf59b",
   "metadata": {
    "execution": {
     "iopub.execute_input": "2023-08-24T12:34:30.040420Z",
     "iopub.status.busy": "2023-08-24T12:34:30.039543Z",
     "iopub.status.idle": "2023-08-24T12:34:31.601961Z",
     "shell.execute_reply": "2023-08-24T12:34:31.601160Z"
    },
    "papermill": {
     "duration": 1.572897,
     "end_time": "2023-08-24T12:34:31.604621",
     "exception": false,
     "start_time": "2023-08-24T12:34:30.031724",
     "status": "completed"
    },
    "tags": []
   },
   "outputs": [
    {
     "name": "stderr",
     "output_type": "stream",
     "text": [
      "/opt/conda/lib/python3.10/site-packages/scipy/__init__.py:146: UserWarning: A NumPy version >=1.16.5 and <1.23.0 is required for this version of SciPy (detected version 1.23.5\n",
      "  warnings.warn(f\"A NumPy version >={np_minversion} and <{np_maxversion}\"\n"
     ]
    }
   ],
   "source": [
    "from sklearn.multioutput import MultiOutputRegressor\n",
    "from sklearn.ensemble import RandomForestRegressor"
   ]
  },
  {
   "cell_type": "code",
   "execution_count": 6,
   "id": "80c5e473",
   "metadata": {
    "execution": {
     "iopub.execute_input": "2023-08-24T12:34:31.620120Z",
     "iopub.status.busy": "2023-08-24T12:34:31.619761Z",
     "iopub.status.idle": "2023-08-24T12:34:45.007881Z",
     "shell.execute_reply": "2023-08-24T12:34:45.006746Z"
    },
    "papermill": {
     "duration": 13.398289,
     "end_time": "2023-08-24T12:34:45.010030",
     "exception": false,
     "start_time": "2023-08-24T12:34:31.611741",
     "status": "completed"
    },
    "tags": []
   },
   "outputs": [
    {
     "data": {
      "text/html": [
       "<style>#sk-container-id-1 {color: black;background-color: white;}#sk-container-id-1 pre{padding: 0;}#sk-container-id-1 div.sk-toggleable {background-color: white;}#sk-container-id-1 label.sk-toggleable__label {cursor: pointer;display: block;width: 100%;margin-bottom: 0;padding: 0.3em;box-sizing: border-box;text-align: center;}#sk-container-id-1 label.sk-toggleable__label-arrow:before {content: \"▸\";float: left;margin-right: 0.25em;color: #696969;}#sk-container-id-1 label.sk-toggleable__label-arrow:hover:before {color: black;}#sk-container-id-1 div.sk-estimator:hover label.sk-toggleable__label-arrow:before {color: black;}#sk-container-id-1 div.sk-toggleable__content {max-height: 0;max-width: 0;overflow: hidden;text-align: left;background-color: #f0f8ff;}#sk-container-id-1 div.sk-toggleable__content pre {margin: 0.2em;color: black;border-radius: 0.25em;background-color: #f0f8ff;}#sk-container-id-1 input.sk-toggleable__control:checked~div.sk-toggleable__content {max-height: 200px;max-width: 100%;overflow: auto;}#sk-container-id-1 input.sk-toggleable__control:checked~label.sk-toggleable__label-arrow:before {content: \"▾\";}#sk-container-id-1 div.sk-estimator input.sk-toggleable__control:checked~label.sk-toggleable__label {background-color: #d4ebff;}#sk-container-id-1 div.sk-label input.sk-toggleable__control:checked~label.sk-toggleable__label {background-color: #d4ebff;}#sk-container-id-1 input.sk-hidden--visually {border: 0;clip: rect(1px 1px 1px 1px);clip: rect(1px, 1px, 1px, 1px);height: 1px;margin: -1px;overflow: hidden;padding: 0;position: absolute;width: 1px;}#sk-container-id-1 div.sk-estimator {font-family: monospace;background-color: #f0f8ff;border: 1px dotted black;border-radius: 0.25em;box-sizing: border-box;margin-bottom: 0.5em;}#sk-container-id-1 div.sk-estimator:hover {background-color: #d4ebff;}#sk-container-id-1 div.sk-parallel-item::after {content: \"\";width: 100%;border-bottom: 1px solid gray;flex-grow: 1;}#sk-container-id-1 div.sk-label:hover label.sk-toggleable__label {background-color: #d4ebff;}#sk-container-id-1 div.sk-serial::before {content: \"\";position: absolute;border-left: 1px solid gray;box-sizing: border-box;top: 0;bottom: 0;left: 50%;z-index: 0;}#sk-container-id-1 div.sk-serial {display: flex;flex-direction: column;align-items: center;background-color: white;padding-right: 0.2em;padding-left: 0.2em;position: relative;}#sk-container-id-1 div.sk-item {position: relative;z-index: 1;}#sk-container-id-1 div.sk-parallel {display: flex;align-items: stretch;justify-content: center;background-color: white;position: relative;}#sk-container-id-1 div.sk-item::before, #sk-container-id-1 div.sk-parallel-item::before {content: \"\";position: absolute;border-left: 1px solid gray;box-sizing: border-box;top: 0;bottom: 0;left: 50%;z-index: -1;}#sk-container-id-1 div.sk-parallel-item {display: flex;flex-direction: column;z-index: 1;position: relative;background-color: white;}#sk-container-id-1 div.sk-parallel-item:first-child::after {align-self: flex-end;width: 50%;}#sk-container-id-1 div.sk-parallel-item:last-child::after {align-self: flex-start;width: 50%;}#sk-container-id-1 div.sk-parallel-item:only-child::after {width: 0;}#sk-container-id-1 div.sk-dashed-wrapped {border: 1px dashed gray;margin: 0 0.4em 0.5em 0.4em;box-sizing: border-box;padding-bottom: 0.4em;background-color: white;}#sk-container-id-1 div.sk-label label {font-family: monospace;font-weight: bold;display: inline-block;line-height: 1.2em;}#sk-container-id-1 div.sk-label-container {text-align: center;}#sk-container-id-1 div.sk-container {/* jupyter's `normalize.less` sets `[hidden] { display: none; }` but bootstrap.min.css set `[hidden] { display: none !important; }` so we also need the `!important` here to be able to override the default hidden behavior on the sphinx rendered scikit-learn.org. See: https://github.com/scikit-learn/scikit-learn/issues/21755 */display: inline-block !important;position: relative;}#sk-container-id-1 div.sk-text-repr-fallback {display: none;}</style><div id=\"sk-container-id-1\" class=\"sk-top-container\"><div class=\"sk-text-repr-fallback\"><pre>MultiOutputRegressor(estimator=RandomForestRegressor(max_depth=30,\n",
       "                                                     random_state=0))</pre><b>In a Jupyter environment, please rerun this cell to show the HTML representation or trust the notebook. <br />On GitHub, the HTML representation is unable to render, please try loading this page with nbviewer.org.</b></div><div class=\"sk-container\" hidden><div class=\"sk-item sk-dashed-wrapped\"><div class=\"sk-label-container\"><div class=\"sk-label sk-toggleable\"><input class=\"sk-toggleable__control sk-hidden--visually\" id=\"sk-estimator-id-1\" type=\"checkbox\" ><label for=\"sk-estimator-id-1\" class=\"sk-toggleable__label sk-toggleable__label-arrow\">MultiOutputRegressor</label><div class=\"sk-toggleable__content\"><pre>MultiOutputRegressor(estimator=RandomForestRegressor(max_depth=30,\n",
       "                                                     random_state=0))</pre></div></div></div><div class=\"sk-parallel\"><div class=\"sk-parallel-item\"><div class=\"sk-item\"><div class=\"sk-label-container\"><div class=\"sk-label sk-toggleable\"><input class=\"sk-toggleable__control sk-hidden--visually\" id=\"sk-estimator-id-2\" type=\"checkbox\" ><label for=\"sk-estimator-id-2\" class=\"sk-toggleable__label sk-toggleable__label-arrow\">estimator: RandomForestRegressor</label><div class=\"sk-toggleable__content\"><pre>RandomForestRegressor(max_depth=30, random_state=0)</pre></div></div></div><div class=\"sk-serial\"><div class=\"sk-item\"><div class=\"sk-estimator sk-toggleable\"><input class=\"sk-toggleable__control sk-hidden--visually\" id=\"sk-estimator-id-3\" type=\"checkbox\" ><label for=\"sk-estimator-id-3\" class=\"sk-toggleable__label sk-toggleable__label-arrow\">RandomForestRegressor</label><div class=\"sk-toggleable__content\"><pre>RandomForestRegressor(max_depth=30, random_state=0)</pre></div></div></div></div></div></div></div></div></div></div>"
      ],
      "text/plain": [
       "MultiOutputRegressor(estimator=RandomForestRegressor(max_depth=30,\n",
       "                                                     random_state=0))"
      ]
     },
     "execution_count": 6,
     "metadata": {},
     "output_type": "execute_result"
    }
   ],
   "source": [
    "max_depth = 30\n",
    "regr_multirf = MultiOutputRegressor(\n",
    "    RandomForestRegressor(n_estimators=100,max_depth=max_depth, random_state=0)\n",
    ")\n",
    "regr_multirf.fit(X_train, y_train)"
   ]
  },
  {
   "cell_type": "code",
   "execution_count": 7,
   "id": "5d231f16",
   "metadata": {
    "execution": {
     "iopub.execute_input": "2023-08-24T12:34:45.026261Z",
     "iopub.status.busy": "2023-08-24T12:34:45.025858Z",
     "iopub.status.idle": "2023-08-24T12:34:45.074334Z",
     "shell.execute_reply": "2023-08-24T12:34:45.073380Z"
    },
    "papermill": {
     "duration": 0.060223,
     "end_time": "2023-08-24T12:34:45.077448",
     "exception": false,
     "start_time": "2023-08-24T12:34:45.017225",
     "status": "completed"
    },
    "tags": []
   },
   "outputs": [
    {
     "data": {
      "text/html": [
       "<div>\n",
       "<style scoped>\n",
       "    .dataframe tbody tr th:only-of-type {\n",
       "        vertical-align: middle;\n",
       "    }\n",
       "\n",
       "    .dataframe tbody tr th {\n",
       "        vertical-align: top;\n",
       "    }\n",
       "\n",
       "    .dataframe thead th {\n",
       "        text-align: right;\n",
       "    }\n",
       "</style>\n",
       "<table border=\"1\" class=\"dataframe\">\n",
       "  <thead>\n",
       "    <tr style=\"text-align: right;\">\n",
       "      <th></th>\n",
       "      <th>Time</th>\n",
       "      <th>OZONE</th>\n",
       "      <th>NO2</th>\n",
       "      <th>temp</th>\n",
       "      <th>humidity</th>\n",
       "      <th>no2op1</th>\n",
       "      <th>no2op2</th>\n",
       "      <th>o3op1</th>\n",
       "      <th>o3op2</th>\n",
       "    </tr>\n",
       "  </thead>\n",
       "  <tbody>\n",
       "    <tr>\n",
       "      <th>0</th>\n",
       "      <td>2019-03-27 17:05:00</td>\n",
       "      <td>71.327</td>\n",
       "      <td>8.801</td>\n",
       "      <td>41.2</td>\n",
       "      <td>28.9</td>\n",
       "      <td>179.0</td>\n",
       "      <td>194.0</td>\n",
       "      <td>220.0</td>\n",
       "      <td>192.0</td>\n",
       "    </tr>\n",
       "    <tr>\n",
       "      <th>1</th>\n",
       "      <td>2019-03-27 17:06:00</td>\n",
       "      <td>72.317</td>\n",
       "      <td>5.536</td>\n",
       "      <td>41.1</td>\n",
       "      <td>28.8</td>\n",
       "      <td>181.0</td>\n",
       "      <td>196.0</td>\n",
       "      <td>222.0</td>\n",
       "      <td>192.0</td>\n",
       "    </tr>\n",
       "    <tr>\n",
       "      <th>2</th>\n",
       "      <td>2019-03-27 17:07:00</td>\n",
       "      <td>74.440</td>\n",
       "      <td>4.574</td>\n",
       "      <td>41.0</td>\n",
       "      <td>29.0</td>\n",
       "      <td>181.0</td>\n",
       "      <td>195.0</td>\n",
       "      <td>222.0</td>\n",
       "      <td>192.0</td>\n",
       "    </tr>\n",
       "    <tr>\n",
       "      <th>3</th>\n",
       "      <td>2019-03-27 17:09:00</td>\n",
       "      <td>74.033</td>\n",
       "      <td>6.426</td>\n",
       "      <td>40.9</td>\n",
       "      <td>28.9</td>\n",
       "      <td>179.0</td>\n",
       "      <td>194.0</td>\n",
       "      <td>220.0</td>\n",
       "      <td>192.0</td>\n",
       "    </tr>\n",
       "    <tr>\n",
       "      <th>4</th>\n",
       "      <td>2019-03-27 17:13:00</td>\n",
       "      <td>73.080</td>\n",
       "      <td>5.825</td>\n",
       "      <td>40.9</td>\n",
       "      <td>28.1</td>\n",
       "      <td>181.0</td>\n",
       "      <td>195.0</td>\n",
       "      <td>222.0</td>\n",
       "      <td>193.0</td>\n",
       "    </tr>\n",
       "  </tbody>\n",
       "</table>\n",
       "</div>"
      ],
      "text/plain": [
       "                  Time   OZONE    NO2  temp  humidity  no2op1  no2op2  o3op1  \\\n",
       "0  2019-03-27 17:05:00  71.327  8.801  41.2      28.9   179.0   194.0  220.0   \n",
       "1  2019-03-27 17:06:00  72.317  5.536  41.1      28.8   181.0   196.0  222.0   \n",
       "2  2019-03-27 17:07:00  74.440  4.574  41.0      29.0   181.0   195.0  222.0   \n",
       "3  2019-03-27 17:09:00  74.033  6.426  40.9      28.9   179.0   194.0  220.0   \n",
       "4  2019-03-27 17:13:00  73.080  5.825  40.9      28.1   181.0   195.0  222.0   \n",
       "\n",
       "   o3op2  \n",
       "0  192.0  \n",
       "1  192.0  \n",
       "2  192.0  \n",
       "3  192.0  \n",
       "4  193.0  "
      ]
     },
     "execution_count": 7,
     "metadata": {},
     "output_type": "execute_result"
    }
   ],
   "source": [
    "df_test = pd.read_csv('/kaggle/input/chemical-test/dummy_test.csv')\n",
    "df_test.head()"
   ]
  },
  {
   "cell_type": "code",
   "execution_count": 8,
   "id": "e469cbec",
   "metadata": {
    "execution": {
     "iopub.execute_input": "2023-08-24T12:34:45.093974Z",
     "iopub.status.busy": "2023-08-24T12:34:45.093558Z",
     "iopub.status.idle": "2023-08-24T12:34:45.110592Z",
     "shell.execute_reply": "2023-08-24T12:34:45.109764Z"
    },
    "papermill": {
     "duration": 0.027873,
     "end_time": "2023-08-24T12:34:45.112729",
     "exception": false,
     "start_time": "2023-08-24T12:34:45.084856",
     "status": "completed"
    },
    "tags": []
   },
   "outputs": [
    {
     "data": {
      "text/html": [
       "<div>\n",
       "<style scoped>\n",
       "    .dataframe tbody tr th:only-of-type {\n",
       "        vertical-align: middle;\n",
       "    }\n",
       "\n",
       "    .dataframe tbody tr th {\n",
       "        vertical-align: top;\n",
       "    }\n",
       "\n",
       "    .dataframe thead th {\n",
       "        text-align: right;\n",
       "    }\n",
       "</style>\n",
       "<table border=\"1\" class=\"dataframe\">\n",
       "  <thead>\n",
       "    <tr style=\"text-align: right;\">\n",
       "      <th></th>\n",
       "      <th>temp</th>\n",
       "      <th>humidity</th>\n",
       "      <th>no2op1</th>\n",
       "      <th>no2op2</th>\n",
       "      <th>o3op1</th>\n",
       "      <th>o3op2</th>\n",
       "    </tr>\n",
       "  </thead>\n",
       "  <tbody>\n",
       "    <tr>\n",
       "      <th>0</th>\n",
       "      <td>41.2</td>\n",
       "      <td>28.9</td>\n",
       "      <td>179.0</td>\n",
       "      <td>194.0</td>\n",
       "      <td>220.0</td>\n",
       "      <td>192.0</td>\n",
       "    </tr>\n",
       "    <tr>\n",
       "      <th>1</th>\n",
       "      <td>41.1</td>\n",
       "      <td>28.8</td>\n",
       "      <td>181.0</td>\n",
       "      <td>196.0</td>\n",
       "      <td>222.0</td>\n",
       "      <td>192.0</td>\n",
       "    </tr>\n",
       "    <tr>\n",
       "      <th>2</th>\n",
       "      <td>41.0</td>\n",
       "      <td>29.0</td>\n",
       "      <td>181.0</td>\n",
       "      <td>195.0</td>\n",
       "      <td>222.0</td>\n",
       "      <td>192.0</td>\n",
       "    </tr>\n",
       "    <tr>\n",
       "      <th>3</th>\n",
       "      <td>40.9</td>\n",
       "      <td>28.9</td>\n",
       "      <td>179.0</td>\n",
       "      <td>194.0</td>\n",
       "      <td>220.0</td>\n",
       "      <td>192.0</td>\n",
       "    </tr>\n",
       "    <tr>\n",
       "      <th>4</th>\n",
       "      <td>40.9</td>\n",
       "      <td>28.1</td>\n",
       "      <td>181.0</td>\n",
       "      <td>195.0</td>\n",
       "      <td>222.0</td>\n",
       "      <td>193.0</td>\n",
       "    </tr>\n",
       "  </tbody>\n",
       "</table>\n",
       "</div>"
      ],
      "text/plain": [
       "   temp  humidity  no2op1  no2op2  o3op1  o3op2\n",
       "0  41.2      28.9   179.0   194.0  220.0  192.0\n",
       "1  41.1      28.8   181.0   196.0  222.0  192.0\n",
       "2  41.0      29.0   181.0   195.0  222.0  192.0\n",
       "3  40.9      28.9   179.0   194.0  220.0  192.0\n",
       "4  40.9      28.1   181.0   195.0  222.0  193.0"
      ]
     },
     "execution_count": 8,
     "metadata": {},
     "output_type": "execute_result"
    }
   ],
   "source": [
    "X_test = df_test[[\"temp\",\"humidity\",\"no2op1\",\"no2op2\",\"o3op1\",\"o3op2\"]]\n",
    "X_test.head()"
   ]
  },
  {
   "cell_type": "code",
   "execution_count": 9,
   "id": "9ec8cd91",
   "metadata": {
    "execution": {
     "iopub.execute_input": "2023-08-24T12:34:45.130773Z",
     "iopub.status.busy": "2023-08-24T12:34:45.130064Z",
     "iopub.status.idle": "2023-08-24T12:34:45.142169Z",
     "shell.execute_reply": "2023-08-24T12:34:45.141160Z"
    },
    "papermill": {
     "duration": 0.023785,
     "end_time": "2023-08-24T12:34:45.144554",
     "exception": false,
     "start_time": "2023-08-24T12:34:45.120769",
     "status": "completed"
    },
    "tags": []
   },
   "outputs": [
    {
     "data": {
      "text/html": [
       "<div>\n",
       "<style scoped>\n",
       "    .dataframe tbody tr th:only-of-type {\n",
       "        vertical-align: middle;\n",
       "    }\n",
       "\n",
       "    .dataframe tbody tr th {\n",
       "        vertical-align: top;\n",
       "    }\n",
       "\n",
       "    .dataframe thead th {\n",
       "        text-align: right;\n",
       "    }\n",
       "</style>\n",
       "<table border=\"1\" class=\"dataframe\">\n",
       "  <thead>\n",
       "    <tr style=\"text-align: right;\">\n",
       "      <th></th>\n",
       "      <th>OZONE</th>\n",
       "      <th>NO2</th>\n",
       "    </tr>\n",
       "  </thead>\n",
       "  <tbody>\n",
       "    <tr>\n",
       "      <th>0</th>\n",
       "      <td>71.327</td>\n",
       "      <td>8.801</td>\n",
       "    </tr>\n",
       "    <tr>\n",
       "      <th>1</th>\n",
       "      <td>72.317</td>\n",
       "      <td>5.536</td>\n",
       "    </tr>\n",
       "    <tr>\n",
       "      <th>2</th>\n",
       "      <td>74.440</td>\n",
       "      <td>4.574</td>\n",
       "    </tr>\n",
       "    <tr>\n",
       "      <th>3</th>\n",
       "      <td>74.033</td>\n",
       "      <td>6.426</td>\n",
       "    </tr>\n",
       "    <tr>\n",
       "      <th>4</th>\n",
       "      <td>73.080</td>\n",
       "      <td>5.825</td>\n",
       "    </tr>\n",
       "  </tbody>\n",
       "</table>\n",
       "</div>"
      ],
      "text/plain": [
       "    OZONE    NO2\n",
       "0  71.327  8.801\n",
       "1  72.317  5.536\n",
       "2  74.440  4.574\n",
       "3  74.033  6.426\n",
       "4  73.080  5.825"
      ]
     },
     "execution_count": 9,
     "metadata": {},
     "output_type": "execute_result"
    }
   ],
   "source": [
    "y_test = df_test[[\"OZONE\",\"NO2\"]]\n",
    "y_test.head()"
   ]
  },
  {
   "cell_type": "code",
   "execution_count": 10,
   "id": "4069e4ae",
   "metadata": {
    "execution": {
     "iopub.execute_input": "2023-08-24T12:34:45.163025Z",
     "iopub.status.busy": "2023-08-24T12:34:45.162054Z",
     "iopub.status.idle": "2023-08-24T12:34:45.381396Z",
     "shell.execute_reply": "2023-08-24T12:34:45.380494Z"
    },
    "papermill": {
     "duration": 0.231456,
     "end_time": "2023-08-24T12:34:45.383915",
     "exception": false,
     "start_time": "2023-08-24T12:34:45.152459",
     "status": "completed"
    },
    "tags": []
   },
   "outputs": [
    {
     "data": {
      "text/plain": [
       "0.9786440087924173"
      ]
     },
     "execution_count": 10,
     "metadata": {},
     "output_type": "execute_result"
    }
   ],
   "source": [
    "regr_multirf.score(X_test,y_test)"
   ]
  },
  {
   "cell_type": "code",
   "execution_count": 11,
   "id": "7157e8a6",
   "metadata": {
    "execution": {
     "iopub.execute_input": "2023-08-24T12:34:45.401834Z",
     "iopub.status.busy": "2023-08-24T12:34:45.401456Z",
     "iopub.status.idle": "2023-08-24T12:34:45.616178Z",
     "shell.execute_reply": "2023-08-24T12:34:45.615258Z"
    },
    "papermill": {
     "duration": 0.2268,
     "end_time": "2023-08-24T12:34:45.618833",
     "exception": false,
     "start_time": "2023-08-24T12:34:45.392033",
     "status": "completed"
    },
    "tags": []
   },
   "outputs": [],
   "source": [
    "y_pred = regr_multirf.predict(X_test)"
   ]
  },
  {
   "cell_type": "code",
   "execution_count": 12,
   "id": "a583637c",
   "metadata": {
    "execution": {
     "iopub.execute_input": "2023-08-24T12:34:45.636938Z",
     "iopub.status.busy": "2023-08-24T12:34:45.636503Z",
     "iopub.status.idle": "2023-08-24T12:34:45.643641Z",
     "shell.execute_reply": "2023-08-24T12:34:45.642600Z"
    },
    "papermill": {
     "duration": 0.018868,
     "end_time": "2023-08-24T12:34:45.645972",
     "exception": false,
     "start_time": "2023-08-24T12:34:45.627104",
     "status": "completed"
    },
    "tags": []
   },
   "outputs": [
    {
     "data": {
      "text/plain": [
       "array([[71.93115   ,  8.56268385],\n",
       "       [72.48282   ,  5.82051   ],\n",
       "       [73.90694   ,  5.30195   ],\n",
       "       ...,\n",
       "       [ 9.34205   , 16.2949    ],\n",
       "       [ 9.90174   , 17.54669   ],\n",
       "       [ 9.75326   , 16.0868    ]])"
      ]
     },
     "execution_count": 12,
     "metadata": {},
     "output_type": "execute_result"
    }
   ],
   "source": [
    "y_pred"
   ]
  },
  {
   "cell_type": "code",
   "execution_count": 13,
   "id": "57a4d94a",
   "metadata": {
    "execution": {
     "iopub.execute_input": "2023-08-24T12:34:45.664001Z",
     "iopub.status.busy": "2023-08-24T12:34:45.663648Z",
     "iopub.status.idle": "2023-08-24T12:34:45.734548Z",
     "shell.execute_reply": "2023-08-24T12:34:45.733585Z"
    },
    "papermill": {
     "duration": 0.08268,
     "end_time": "2023-08-24T12:34:45.736878",
     "exception": false,
     "start_time": "2023-08-24T12:34:45.654198",
     "status": "completed"
    },
    "tags": []
   },
   "outputs": [
    {
     "data": {
      "text/plain": [
       "1.4326853585940214"
      ]
     },
     "execution_count": 13,
     "metadata": {},
     "output_type": "execute_result"
    }
   ],
   "source": [
    "mae_o3 = 0\n",
    "for i in range(y_pred.shape[0]):\n",
    "    mae_o3 += abs(y_pred[i][0] - y_test[\"OZONE\"][i])\n",
    "mae_o3/y_pred.shape[0]"
   ]
  },
  {
   "cell_type": "code",
   "execution_count": 14,
   "id": "5de7fa03",
   "metadata": {
    "execution": {
     "iopub.execute_input": "2023-08-24T12:34:45.756053Z",
     "iopub.status.busy": "2023-08-24T12:34:45.755339Z",
     "iopub.status.idle": "2023-08-24T12:34:45.822242Z",
     "shell.execute_reply": "2023-08-24T12:34:45.821049Z"
    },
    "papermill": {
     "duration": 0.079503,
     "end_time": "2023-08-24T12:34:45.824809",
     "exception": false,
     "start_time": "2023-08-24T12:34:45.745306",
     "status": "completed"
    },
    "tags": []
   },
   "outputs": [
    {
     "data": {
      "text/plain": [
       "0.9618431928727624"
      ]
     },
     "execution_count": 14,
     "metadata": {},
     "output_type": "execute_result"
    }
   ],
   "source": [
    "mae_no2 = 0\n",
    "for i in range(y_pred.shape[0]):\n",
    "    mae_no2 += abs(y_pred[i][1] - y_test[\"NO2\"][i])\n",
    "mae_no2/y_pred.shape[0]"
   ]
  },
  {
   "cell_type": "code",
   "execution_count": 15,
   "id": "dcb591cb",
   "metadata": {
    "execution": {
     "iopub.execute_input": "2023-08-24T12:34:45.843283Z",
     "iopub.status.busy": "2023-08-24T12:34:45.842893Z",
     "iopub.status.idle": "2023-08-24T12:34:45.847896Z",
     "shell.execute_reply": "2023-08-24T12:34:45.846888Z"
    },
    "papermill": {
     "duration": 0.016892,
     "end_time": "2023-08-24T12:34:45.850032",
     "exception": false,
     "start_time": "2023-08-24T12:34:45.833140",
     "status": "completed"
    },
    "tags": []
   },
   "outputs": [],
   "source": [
    "import pickle"
   ]
  },
  {
   "cell_type": "code",
   "execution_count": 16,
   "id": "94df49a4",
   "metadata": {
    "execution": {
     "iopub.execute_input": "2023-08-24T12:34:45.868350Z",
     "iopub.status.busy": "2023-08-24T12:34:45.867984Z",
     "iopub.status.idle": "2023-08-24T12:34:46.502012Z",
     "shell.execute_reply": "2023-08-24T12:34:46.500798Z"
    },
    "papermill": {
     "duration": 0.646229,
     "end_time": "2023-08-24T12:34:46.504815",
     "exception": false,
     "start_time": "2023-08-24T12:34:45.858586",
     "status": "completed"
    },
    "tags": []
   },
   "outputs": [],
   "source": [
    "with open('model.pkl','wb') as f:\n",
    "    pickle.dump(regr_multirf,f)"
   ]
  },
  {
   "cell_type": "code",
   "execution_count": null,
   "id": "c2ed565a",
   "metadata": {
    "papermill": {
     "duration": 0.008275,
     "end_time": "2023-08-24T12:34:46.521641",
     "exception": false,
     "start_time": "2023-08-24T12:34:46.513366",
     "status": "completed"
    },
    "tags": []
   },
   "outputs": [],
   "source": []
  }
 ],
 "metadata": {
  "kernelspec": {
   "display_name": "Python 3",
   "language": "python",
   "name": "python3"
  },
  "language_info": {
   "codemirror_mode": {
    "name": "ipython",
    "version": 3
   },
   "file_extension": ".py",
   "mimetype": "text/x-python",
   "name": "python",
   "nbconvert_exporter": "python",
   "pygments_lexer": "ipython3",
   "version": "3.10.10"
  },
  "papermill": {
   "default_parameters": {},
   "duration": 30.418737,
   "end_time": "2023-08-24T12:34:47.552472",
   "environment_variables": {},
   "exception": null,
   "input_path": "__notebook__.ipynb",
   "output_path": "__notebook__.ipynb",
   "parameters": {},
   "start_time": "2023-08-24T12:34:17.133735",
   "version": "2.4.0"
  }
 },
 "nbformat": 4,
 "nbformat_minor": 5
}
